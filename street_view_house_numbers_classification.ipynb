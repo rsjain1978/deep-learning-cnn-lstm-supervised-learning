{
  "nbformat": 4,
  "nbformat_minor": 0,
  "metadata": {
    "colab": {
      "name": "street view house numbers classification.ipynb",
      "provenance": [],
      "collapsed_sections": [],
      "toc_visible": true
    },
    "kernelspec": {
      "name": "python3",
      "display_name": "Python 3"
    },
    "accelerator": "GPU"
  },
  "cells": [
    {
      "cell_type": "code",
      "metadata": {
        "id": "am9bBqY9SJir",
        "colab_type": "code",
        "colab": {}
      },
      "source": [
        "#!pip uninstall tensorflow"
      ],
      "execution_count": 0,
      "outputs": []
    },
    {
      "cell_type": "code",
      "metadata": {
        "id": "HgNycRxpSU_8",
        "colab_type": "code",
        "colab": {}
      },
      "source": [
        "#!pip install tensorflow-gpu"
      ],
      "execution_count": 0,
      "outputs": []
    },
    {
      "cell_type": "markdown",
      "metadata": {
        "id": "acEMIzbC9Npp",
        "colab_type": "text"
      },
      "source": [
        "# Check for GPU Support"
      ]
    },
    {
      "cell_type": "code",
      "metadata": {
        "id": "-zJ3IapSScTy",
        "colab_type": "code",
        "outputId": "c2f5565e-0b9c-4748-d2d5-1ceeef3f4210",
        "colab": {
          "base_uri": "https://localhost:8080/",
          "height": 35
        }
      },
      "source": [
        "import tensorflow as tf\n",
        "device_name = tf.test.gpu_device_name()\n",
        "if device_name != '/device:GPU:0':\n",
        "  raise SystemError('GPU device not found')\n",
        "print('Found GPU at: {}'.format(device_name))"
      ],
      "execution_count": 57,
      "outputs": [
        {
          "output_type": "stream",
          "text": [
            "Found GPU at: /device:GPU:0\n"
          ],
          "name": "stdout"
        }
      ]
    },
    {
      "cell_type": "markdown",
      "metadata": {
        "id": "YU2fAiuN9Sqj",
        "colab_type": "text"
      },
      "source": [
        "# Connect to Google Drive and access the dataset"
      ]
    },
    {
      "cell_type": "code",
      "metadata": {
        "id": "pbxfxSIR3Amf",
        "colab_type": "code",
        "outputId": "e5690a62-81cc-4eb3-c131-ee6b7c34ef26",
        "colab": {
          "base_uri": "https://localhost:8080/",
          "height": 35
        }
      },
      "source": [
        "from google.colab import drive\n",
        "drive.mount('/content/gdrive')"
      ],
      "execution_count": 58,
      "outputs": [
        {
          "output_type": "stream",
          "text": [
            "Drive already mounted at /content/gdrive; to attempt to forcibly remount, call drive.mount(\"/content/gdrive\", force_remount=True).\n"
          ],
          "name": "stdout"
        }
      ]
    },
    {
      "cell_type": "markdown",
      "metadata": {
        "id": "LKl6-Om_9YqW",
        "colab_type": "text"
      },
      "source": [
        "# Load the X_train, X_test, Y_train, Y_test, X_val and Y_val datasets from the h5py file\t"
      ]
    },
    {
      "cell_type": "code",
      "metadata": {
        "id": "Dw7UYm7CUNmU",
        "colab_type": "code",
        "colab": {}
      },
      "source": [
        "import h5py\n",
        "filename = '/content/gdrive/My Drive/Colab Notebooks/dataset/svhn/SVHN_single_grey1.h5'\n",
        "\n",
        "with h5py.File(filename, 'r') as f:\n",
        "    # Get the data\n",
        "    X_test = list(f['X_test'])\n",
        "    X_train = list(f['X_train'])\n",
        "    X_val = list(f['X_val'])\n",
        "    y_val = list(f['y_val'])\n",
        "    y_test = list(f['y_test'])\n",
        "    y_train = list(f['y_train'])"
      ],
      "execution_count": 0,
      "outputs": []
    },
    {
      "cell_type": "markdown",
      "metadata": {
        "id": "TVtaOfhb9evU",
        "colab_type": "text"
      },
      "source": [
        "#Flatten the images for Keras\t& Normalize the inputs for X_train, X_test and X_val\t"
      ]
    },
    {
      "cell_type": "code",
      "metadata": {
        "id": "VaPmPCuroZxL",
        "colab_type": "code",
        "colab": {}
      },
      "source": [
        "# Images data pre-processing\n",
        "from keras.preprocessing.image import ImageDataGenerator\n",
        "import numpy as np\n",
        "from keras.utils import to_categorical\n",
        "\n",
        "X_train_scaled = [x/255 for x in X_train]\n",
        "X_val_scaled = [x/255 for x in X_val]\n",
        "X_test_scaled = [x/255 for x in X_test]\n",
        "\n",
        "X_train_scaled = np.asarray(X_train_scaled)\n",
        "X_val_scaled = np.asarray(X_val_scaled)\n",
        "X_test_scaled = np.asarray(X_test_scaled)\n",
        "\n",
        "X_train_scaled = X_train_scaled.reshape(len(X_train_scaled),32,32,1)\n",
        "X_val_scaled = X_val_scaled.reshape(len(X_val_scaled),32,32,1)\n",
        "X_test_scaled = X_test_scaled.reshape(len(X_test_scaled),32,32,1)"
      ],
      "execution_count": 0,
      "outputs": []
    },
    {
      "cell_type": "markdown",
      "metadata": {
        "id": "9ZBcRBrX9p9K",
        "colab_type": "text"
      },
      "source": [
        "#Convert the class matrices Y_train, Y_test and Y_val into one hot vectors\t"
      ]
    },
    {
      "cell_type": "code",
      "metadata": {
        "id": "f2dwHwFM9ktE",
        "colab_type": "code",
        "colab": {}
      },
      "source": [
        "y_val_scaled = np.asarray(y_val)\n",
        "y_test_scaled = np.asarray(y_test)\n",
        "y_train_scaled = np.asarray(y_train)\n",
        "\n",
        "y_val_scaled = to_categorical(y_val_scaled)\n",
        "y_test_scaled = to_categorical(y_test_scaled)\n",
        "y_train_scaled = to_categorical(y_train_scaled)"
      ],
      "execution_count": 0,
      "outputs": []
    },
    {
      "cell_type": "markdown",
      "metadata": {
        "id": "3DF0olzz9ti-",
        "colab_type": "text"
      },
      "source": [
        "#Print the train, test and val shapes\t"
      ]
    },
    {
      "cell_type": "code",
      "metadata": {
        "id": "ZI_aEb9r9vAA",
        "colab_type": "code",
        "outputId": "663a815f-18fb-48a9-ff15-02153efcec00",
        "colab": {
          "base_uri": "https://localhost:8080/",
          "height": 70
        }
      },
      "source": [
        "print ('Shape of training data is ({:},{:})'.format(len(X_train_scaled), len(y_train_scaled)))\n",
        "print ('Shape of test data is ({:},{:})'.format(len(X_test_scaled), len(y_test_scaled)))\n",
        "print ('Shape of validation data is ({:},{:})'.format(len(X_val_scaled), len(y_val_scaled)))"
      ],
      "execution_count": 62,
      "outputs": [
        {
          "output_type": "stream",
          "text": [
            "Shape of training data is (42000,42000)\n",
            "Shape of test data is (18000,18000)\n",
            "Shape of validation data is (60000,60000)\n"
          ],
          "name": "stdout"
        }
      ]
    },
    {
      "cell_type": "markdown",
      "metadata": {
        "id": "uUp0ZJ1Q-bSs",
        "colab_type": "text"
      },
      "source": [
        "#Visualize the first 10 images in X_train and the corresponding Y_train labels\t"
      ]
    },
    {
      "cell_type": "code",
      "metadata": {
        "id": "YhUnhpBZ-czw",
        "colab_type": "code",
        "outputId": "d2a1406c-7956-4bb8-b82b-fba71eecd563",
        "colab": {
          "base_uri": "https://localhost:8080/",
          "height": 1000
        }
      },
      "source": [
        "from matplotlib import pyplot as plt\n",
        "%matplotlib inline\n",
        "\n",
        "for i in range(10):\n",
        "  print ('Label is->{:}'.format(y_train[i]))\n",
        "  plt.imshow(X_train[i])\n",
        "  plt.show()"
      ],
      "execution_count": 63,
      "outputs": [
        {
          "output_type": "stream",
          "text": [
            "Label is->2\n"
          ],
          "name": "stdout"
        },
        {
          "output_type": "display_data",
          "data": {
            "image/png": "[encoded data removed]",
            "text/plain": [
              "<Figure size 432x288 with 1 Axes>"
            ]
          },
          "metadata": {
            "tags": []
          }
        },
        {
          "output_type": "stream",
          "text": [
            "Label is->6\n"
          ],
          "name": "stdout"
        },
        {
          "output_type": "display_data",
          "data": {
            "image/png": "[encoded data removed]",
            "text/plain": [
              "<Figure size 432x288 with 1 Axes>"
            ]
          },
          "metadata": {
            "tags": []
          }
        },
        {
          "output_type": "stream",
          "text": [
            "Label is->7\n"
          ],
          "name": "stdout"
        },
        {
          "output_type": "display_data",
          "data": {
            "image/png": "[encoded data removed]",
            "text/plain": [
              "<Figure size 432x288 with 1 Axes>"
            ]
          },
          "metadata": {
            "tags": []
          }
        },
        {
          "output_type": "stream",
          "text": [
            "Label is->4\n"
          ],
          "name": "stdout"
        },
        {
          "output_type": "display_data",
          "data": {
            "image/png": "[encoded data removed]",
            "text/plain": [
              "<Figure size 432x288 with 1 Axes>"
            ]
          },
          "metadata": {
            "tags": []
          }
        },
        {
          "output_type": "stream",
          "text": [
            "Label is->4\n"
          ],
          "name": "stdout"
        },
        {
          "output_type": "display_data",
          "data": {
            "image/png": "[encoded data removed]",
            "text/plain": [
              "<Figure size 432x288 with 1 Axes>"
            ]
          },
          "metadata": {
            "tags": []
          }
        },
        {
          "output_type": "stream",
          "text": [
            "Label is->0\n"
          ],
          "name": "stdout"
        },
        {
          "output_type": "display_data",
          "data": {
            "image/png": "[encoded data removed]",
            "text/plain": [
              "<Figure size 432x288 with 1 Axes>"
            ]
          },
          "metadata": {
            "tags": []
          }
        },
        {
          "output_type": "stream",
          "text": [
            "Label is->3\n"
          ],
          "name": "stdout"
        },
        {
          "output_type": "display_data",
          "data": {
            "image/png": "[encoded data removed]",
            "text/plain": [
              "<Figure size 432x288 with 1 Axes>"
            ]
          },
          "metadata": {
            "tags": []
          }
        },
        {
          "output_type": "stream",
          "text": [
            "Label is->0\n"
          ],
          "name": "stdout"
        },
        {
          "output_type": "display_data",
          "data": {
            "image/png": "[encoded data removed]",
            "text/plain": [
              "<Figure size 432x288 with 1 Axes>"
            ]
          },
          "metadata": {
            "tags": []
          }
        },
        {
          "output_type": "stream",
          "text": [
            "Label is->7\n"
          ],
          "name": "stdout"
        },
        {
          "output_type": "display_data",
          "data": {
            "image/png": "[encoded data removed]",
            "text/plain": [
              "<Figure size 432x288 with 1 Axes>"
            ]
          },
          "metadata": {
            "tags": []
          }
        },
        {
          "output_type": "stream",
          "text": [
            "Label is->3\n"
          ],
          "name": "stdout"
        },
        {
          "output_type": "display_data",
          "data": {
            "image/png": "[encoded data removed]",
            "text/plain": [
              "<Figure size 432x288 with 1 Axes>"
            ]
          },
          "metadata": {
            "tags": []
          }
        }
      ]
    },
    {
      "cell_type": "markdown",
      "metadata": {
        "id": "M1kNBeUZ_Oyt",
        "colab_type": "text"
      },
      "source": [
        "#In the train and test loop, define the hyperparameters for the model\t"
      ]
    },
    {
      "cell_type": "code",
      "metadata": {
        "id": "ULgMHRDcogGU",
        "colab_type": "code",
        "colab": {}
      },
      "source": [
        "# Lists to hold the Experiment details, acuracy and l2 regularization details for final comparision"
      ],
      "execution_count": 0,
      "outputs": []
    },
    {
      "cell_type": "code",
      "metadata": {
        "id": "30T4IjPFoYVs",
        "colab_type": "code",
        "colab": {}
      },
      "source": [
        "model_description = []\n",
        "model_accuracy = []\n",
        "model_l2_regularization = []\n",
        "model_lr = []\n",
        "model_dropout = []"
      ],
      "execution_count": 0,
      "outputs": []
    },
    {
      "cell_type": "markdown",
      "metadata": {
        "id": "QJCF1RTw_Q5D",
        "colab_type": "text"
      },
      "source": [
        "#Create a Sequential model in Keras with input layer with the correct input shape, Hidden Layers, Output Layers and the activation functions\t"
      ]
    },
    {
      "cell_type": "code",
      "metadata": {
        "id": "kGO4DzdtopFP",
        "colab_type": "code",
        "colab": {}
      },
      "source": [
        "from keras.models import Sequential\n",
        "from keras.layers import Dense, Flatten, Conv2D, MaxPooling2D\n",
        "from keras import regularizers\n",
        "from keras.optimizers import Adam\n",
        "from keras.layers import Dropout\n",
        "from keras.constraints import maxnorm\n",
        "\n",
        "def build_model(l2_lambda=0.0001,\n",
        "                learning_rate=0.01,\n",
        "                dropout_rate=0.0\n",
        "                ):\n",
        "\n",
        "  l2 = None if l2_lambda is 0 else regularizers.l2(l2_lambda)\n",
        "\n",
        "  if l2 is None:\n",
        "    print ('Model is running without any L2 regularization')\n",
        "\n",
        "  model = Sequential()\n",
        "  model.add(Conv2D(64, (2,2), activation='relu', kernel_regularizer=l2, input_shape=(32,32,1)))\n",
        "  model.add(MaxPooling2D(2,2))\n",
        "\n",
        "  model.add(Conv2D(128, (2,2), activation='relu', kernel_regularizer=l2, ))\n",
        "  model.add(MaxPooling2D(2,2))\n",
        "\n",
        "  model.add(Flatten())\n",
        "\n",
        "  model.add(Dropout(dropout_rate))\n",
        "\n",
        "  model.add(Dense(10, activation='softmax'))\n",
        "\n",
        "  model.summary()\n",
        "\n",
        "  # create optimizer\n",
        "  optimizer = Adam(lr=learning_rate)\n",
        "\n",
        "  #Define the optimizer to be used in this model\t\n",
        "  #Compile the model with the corresponding Loss and metrics to monitor\t\n",
        "  model.compile(optimizer='adam', loss='categorical_crossentropy', metrics=['accuracy'])\n",
        "\n",
        "  return model"
      ],
      "execution_count": 0,
      "outputs": []
    },
    {
      "cell_type": "markdown",
      "metadata": {
        "id": "snuuFjYSsM8r",
        "colab_type": "text"
      },
      "source": [
        "# Create Model - Low Lambda Value"
      ]
    },
    {
      "cell_type": "code",
      "metadata": {
        "id": "8u46QgF0sHAx",
        "colab_type": "code",
        "colab": {
          "base_uri": "https://localhost:8080/",
          "height": 781
        },
        "outputId": "0932d493-76c2-438a-f5cd-10bce14e1172"
      },
      "source": [
        "model_with_low_l2_lambda = build_model(0.001)\n",
        "\n",
        "#Fit the model\t\n",
        "history = model_with_low_l2_lambda.fit(X_train_scaled, y_train_scaled, epochs=10, validation_data=(X_val_scaled,y_val_scaled))"
      ],
      "execution_count": 92,
      "outputs": [
        {
          "output_type": "stream",
          "text": [
            "Model: \"sequential_22\"\n",
            "_________________________________________________________________\n",
            "Layer (type)                 Output Shape              Param #   \n",
            "=================================================================\n",
            "conv2d_43 (Conv2D)           (None, 31, 31, 64)        320       \n",
            "_________________________________________________________________\n",
            "max_pooling2d_43 (MaxPooling (None, 15, 15, 64)        0         \n",
            "_________________________________________________________________\n",
            "conv2d_44 (Conv2D)           (None, 14, 14, 128)       32896     \n",
            "_________________________________________________________________\n",
            "max_pooling2d_44 (MaxPooling (None, 7, 7, 128)         0         \n",
            "_________________________________________________________________\n",
            "flatten_22 (Flatten)         (None, 6272)              0         \n",
            "_________________________________________________________________\n",
            "dropout_14 (Dropout)         (None, 6272)              0         \n",
            "_________________________________________________________________\n",
            "dense_29 (Dense)             (None, 10)                62730     \n",
            "=================================================================\n",
            "Total params: 95,946\n",
            "Trainable params: 95,946\n",
            "Non-trainable params: 0\n",
            "_________________________________________________________________\n",
            "Train on 42000 samples, validate on 60000 samples\n",
            "Epoch 1/10\n",
            "42000/42000 [==============================] - 13s 315us/step - loss: 1.3637 - acc: 0.5793 - val_loss: 0.8370 - val_acc: 0.7795\n",
            "Epoch 2/10\n",
            "42000/42000 [==============================] - 12s 280us/step - loss: 0.8042 - acc: 0.7867 - val_loss: 0.7516 - val_acc: 0.8045\n",
            "Epoch 3/10\n",
            "42000/42000 [==============================] - 12s 285us/step - loss: 0.7472 - acc: 0.8025 - val_loss: 0.7206 - val_acc: 0.8134\n",
            "Epoch 4/10\n",
            "42000/42000 [==============================] - 12s 277us/step - loss: 0.7238 - acc: 0.8092 - val_loss: 0.7459 - val_acc: 0.7983\n",
            "Epoch 5/10\n",
            "42000/42000 [==============================] - 12s 285us/step - loss: 0.7093 - acc: 0.8115 - val_loss: 0.6981 - val_acc: 0.8192\n",
            "Epoch 6/10\n",
            "42000/42000 [==============================] - 12s 279us/step - loss: 0.6957 - acc: 0.8153 - val_loss: 0.7044 - val_acc: 0.8165\n",
            "Epoch 7/10\n",
            "42000/42000 [==============================] - 12s 277us/step - loss: 0.6868 - acc: 0.8206 - val_loss: 0.6829 - val_acc: 0.8190\n",
            "Epoch 8/10\n",
            "42000/42000 [==============================] - 11s 266us/step - loss: 0.6805 - acc: 0.8213 - val_loss: 0.6836 - val_acc: 0.8220\n",
            "Epoch 9/10\n",
            "42000/42000 [==============================] - 12s 277us/step - loss: 0.6737 - acc: 0.8221 - val_loss: 0.6950 - val_acc: 0.8152\n",
            "Epoch 10/10\n",
            "42000/42000 [==============================] - 13s 302us/step - loss: 0.6658 - acc: 0.8253 - val_loss: 0.6529 - val_acc: 0.8334\n"
          ],
          "name": "stdout"
        }
      ]
    },
    {
      "cell_type": "markdown",
      "metadata": {
        "id": "nZ47DHIlAjUG",
        "colab_type": "text"
      },
      "source": [
        "#Visualizing Training Performance"
      ]
    },
    {
      "cell_type": "code",
      "metadata": {
        "id": "vMKmrvnq59sl",
        "colab_type": "code",
        "outputId": "1c51a7b5-f833-4c8b-e7ea-a86d9c4e96e7",
        "colab": {
          "base_uri": "https://localhost:8080/",
          "height": 279
        }
      },
      "source": [
        "import matplotlib.pyplot as plt\n",
        "%matplotlib inline\n",
        "\n",
        "figure = plt.figure()\n",
        "\n",
        "ax1 = figure.add_subplot(211)\n",
        "ax1.plot(history.history['acc'])\n",
        "ax1.plot(history.history['val_acc'])\n",
        "plt.xlabel('Epochs')\n",
        "plt.ylabel('Accuracy')\n",
        "plt.legend(labels=['Training','Validation'])\n",
        "\n",
        "ax1 = figure.add_subplot(212)\n",
        "ax1.plot(history.history['loss'])\n",
        "ax1.plot(history.history['val_loss'])\n",
        "plt.xlabel('Epochs')\n",
        "plt.ylabel('Loss')\n",
        "plt.legend(labels=['Training','Validation'])\n",
        "\n",
        "plt.show()"
      ],
      "execution_count": 93,
      "outputs": [
        {
          "output_type": "display_data",
          "data": {
            "image/png": "[encoded data removed]",
            "text/plain": [
              "<Figure size 432x288 with 2 Axes>"
            ]
          },
          "metadata": {
            "tags": []
          }
        }
      ]
    },
    {
      "cell_type": "markdown",
      "metadata": {
        "id": "baTTVrzQAWB1",
        "colab_type": "text"
      },
      "source": [
        "#Low Lambda Model - Use model.evaluate() to return the score\t"
      ]
    },
    {
      "cell_type": "code",
      "metadata": {
        "id": "TrKgeGdXAWs5",
        "colab_type": "code",
        "outputId": "e6839a08-a534-41c8-ee6f-fd4bb7291a73",
        "colab": {
          "base_uri": "https://localhost:8080/",
          "height": 52
        }
      },
      "source": [
        "scores = model_with_low_l2_lambda.evaluate(X_test_scaled, y_test_scaled)\n",
        "m1_accuracy = model_with_low_l2_lambda.metrics_names[1], scores[1]*100\n",
        "print(\"%s: %.2f%%\" % (m1_accuracy))\n",
        "\n",
        "model_description.append('Model 1->Low L2 Lambda')\n",
        "model_accuracy.append(m1_accuracy)\n",
        "model_l2_regularization.append(.0001)\n",
        "model_lr.append(\"None\")\n",
        "model_dropout.append(\"None\")"
      ],
      "execution_count": 103,
      "outputs": [
        {
          "output_type": "stream",
          "text": [
            "18000/18000 [==============================] - 1s 79us/step\n",
            "acc: 82.01%\n"
          ],
          "name": "stdout"
        }
      ]
    },
    {
      "cell_type": "markdown",
      "metadata": {
        "id": "cU2BSAfVBHzf",
        "colab_type": "text"
      },
      "source": [
        "#Disable Regularization by setting appropriate value for Lambda and check the loss of the NN\t"
      ]
    },
    {
      "cell_type": "code",
      "metadata": {
        "id": "YJ7zQdiGApwi",
        "colab_type": "code",
        "outputId": "dc453841-82ea-4802-b658-4a3b17cf7fab",
        "colab": {
          "base_uri": "https://localhost:8080/",
          "height": 799
        }
      },
      "source": [
        "model_without_l2_lambda = build_model(0)\n",
        "\n",
        "#Fit the model\t\n",
        "history = model_without_l2_lambda.fit(X_train_scaled, y_train_scaled, epochs=10, validation_data=(X_val_scaled,y_val_scaled))"
      ],
      "execution_count": 95,
      "outputs": [
        {
          "output_type": "stream",
          "text": [
            "Model is running without any L2 regularization\n",
            "Model: \"sequential_23\"\n",
            "_________________________________________________________________\n",
            "Layer (type)                 Output Shape              Param #   \n",
            "=================================================================\n",
            "conv2d_45 (Conv2D)           (None, 31, 31, 64)        320       \n",
            "_________________________________________________________________\n",
            "max_pooling2d_45 (MaxPooling (None, 15, 15, 64)        0         \n",
            "_________________________________________________________________\n",
            "conv2d_46 (Conv2D)           (None, 14, 14, 128)       32896     \n",
            "_________________________________________________________________\n",
            "max_pooling2d_46 (MaxPooling (None, 7, 7, 128)         0         \n",
            "_________________________________________________________________\n",
            "flatten_23 (Flatten)         (None, 6272)              0         \n",
            "_________________________________________________________________\n",
            "dropout_15 (Dropout)         (None, 6272)              0         \n",
            "_________________________________________________________________\n",
            "dense_30 (Dense)             (None, 10)                62730     \n",
            "=================================================================\n",
            "Total params: 95,946\n",
            "Trainable params: 95,946\n",
            "Non-trainable params: 0\n",
            "_________________________________________________________________\n",
            "Train on 42000 samples, validate on 60000 samples\n",
            "Epoch 1/10\n",
            "42000/42000 [==============================] - 13s 306us/step - loss: 1.1594 - acc: 0.6381 - val_loss: 0.6811 - val_acc: 0.8115\n",
            "Epoch 2/10\n",
            "42000/42000 [==============================] - 11s 260us/step - loss: 0.6584 - acc: 0.8132 - val_loss: 0.6052 - val_acc: 0.8300\n",
            "Epoch 3/10\n",
            "42000/42000 [==============================] - 11s 271us/step - loss: 0.5940 - acc: 0.8321 - val_loss: 0.5565 - val_acc: 0.8459\n",
            "Epoch 4/10\n",
            "42000/42000 [==============================] - 11s 270us/step - loss: 0.5565 - acc: 0.8448 - val_loss: 0.5508 - val_acc: 0.8455\n",
            "Epoch 5/10\n",
            "42000/42000 [==============================] - 11s 266us/step - loss: 0.5277 - acc: 0.8512 - val_loss: 0.5029 - val_acc: 0.8626\n",
            "Epoch 6/10\n",
            "42000/42000 [==============================] - 11s 256us/step - loss: 0.5042 - acc: 0.8590 - val_loss: 0.5007 - val_acc: 0.8634\n",
            "Epoch 7/10\n",
            "42000/42000 [==============================] - 11s 262us/step - loss: 0.4843 - acc: 0.8634 - val_loss: 0.4715 - val_acc: 0.8708\n",
            "Epoch 8/10\n",
            "42000/42000 [==============================] - 11s 258us/step - loss: 0.4657 - acc: 0.8681 - val_loss: 0.4649 - val_acc: 0.8727\n",
            "Epoch 9/10\n",
            "42000/42000 [==============================] - 12s 276us/step - loss: 0.4480 - acc: 0.8729 - val_loss: 0.4501 - val_acc: 0.8764\n",
            "Epoch 10/10\n",
            "42000/42000 [==============================] - 11s 259us/step - loss: 0.4338 - acc: 0.8780 - val_loss: 0.4806 - val_acc: 0.8644\n"
          ],
          "name": "stdout"
        }
      ]
    },
    {
      "cell_type": "markdown",
      "metadata": {
        "id": "MyJEHzFCDPYi",
        "colab_type": "text"
      },
      "source": [
        "# Zero Regularization - Use model.evaluate() to return the score\n"
      ]
    },
    {
      "cell_type": "code",
      "metadata": {
        "id": "bouS8mPqDTpq",
        "colab_type": "code",
        "outputId": "57a154d4-522a-4a0a-b20d-8ed39cd141ac",
        "colab": {
          "base_uri": "https://localhost:8080/",
          "height": 52
        }
      },
      "source": [
        "scores = model_without_l2_lambda.evaluate(X_test_scaled, y_test_scaled)\n",
        "m2_accuracy = model_without_l2_lambda.metrics_names[1], scores[1]*100\n",
        "print(\"%s: %.2f%%\" % (m1_accuracy))\n",
        "\n",
        "model_description.append('Model 2->Zero L2 Lambda')\n",
        "model_accuracy.append(m2_accuracy)\n",
        "model_l2_regularization.append(0)\n",
        "model_lr.append(\"None\")\n",
        "model_dropout.append(\"None\")"
      ],
      "execution_count": 104,
      "outputs": [
        {
          "output_type": "stream",
          "text": [
            "18000/18000 [==============================] - 1s 72us/step\n",
            "acc: 82.01%\n"
          ],
          "name": "stdout"
        }
      ]
    },
    {
      "cell_type": "markdown",
      "metadata": {
        "id": "FP3g5xF8DbaH",
        "colab_type": "text"
      },
      "source": [
        "#Increase the Regularization parameter (Lambda) and check how the loss is for the NN. Record findings\t\t"
      ]
    },
    {
      "cell_type": "code",
      "metadata": {
        "id": "IHerNflnDdZ8",
        "colab_type": "code",
        "outputId": "a6a24988-ce1d-44cd-b783-bb0327e7619e",
        "colab": {
          "base_uri": "https://localhost:8080/",
          "height": 781
        }
      },
      "source": [
        "model_with_high_l2_lambda = build_model(0.05)\n",
        "\n",
        "#Fit the model\t\n",
        "history = model_with_high_l2_lambda.fit(X_train_scaled, y_train_scaled, epochs=10, validation_data=(X_val_scaled,y_val_scaled))"
      ],
      "execution_count": 97,
      "outputs": [
        {
          "output_type": "stream",
          "text": [
            "Model: \"sequential_24\"\n",
            "_________________________________________________________________\n",
            "Layer (type)                 Output Shape              Param #   \n",
            "=================================================================\n",
            "conv2d_47 (Conv2D)           (None, 31, 31, 64)        320       \n",
            "_________________________________________________________________\n",
            "max_pooling2d_47 (MaxPooling (None, 15, 15, 64)        0         \n",
            "_________________________________________________________________\n",
            "conv2d_48 (Conv2D)           (None, 14, 14, 128)       32896     \n",
            "_________________________________________________________________\n",
            "max_pooling2d_48 (MaxPooling (None, 7, 7, 128)         0         \n",
            "_________________________________________________________________\n",
            "flatten_24 (Flatten)         (None, 6272)              0         \n",
            "_________________________________________________________________\n",
            "dropout_16 (Dropout)         (None, 6272)              0         \n",
            "_________________________________________________________________\n",
            "dense_31 (Dense)             (None, 10)                62730     \n",
            "=================================================================\n",
            "Total params: 95,946\n",
            "Trainable params: 95,946\n",
            "Non-trainable params: 0\n",
            "_________________________________________________________________\n",
            "Train on 42000 samples, validate on 60000 samples\n",
            "Epoch 1/10\n",
            "42000/42000 [==============================] - 13s 307us/step - loss: 2.3885 - acc: 0.1001 - val_loss: 2.3026 - val_acc: 0.1000\n",
            "Epoch 2/10\n",
            "42000/42000 [==============================] - 12s 284us/step - loss: 2.3028 - acc: 0.0987 - val_loss: 2.3027 - val_acc: 0.1000\n",
            "Epoch 3/10\n",
            "42000/42000 [==============================] - 12s 276us/step - loss: 2.3027 - acc: 0.1003 - val_loss: 2.3026 - val_acc: 0.1000\n",
            "Epoch 4/10\n",
            "42000/42000 [==============================] - 11s 270us/step - loss: 2.3028 - acc: 0.1002 - val_loss: 2.3026 - val_acc: 0.1000\n",
            "Epoch 5/10\n",
            "42000/42000 [==============================] - 11s 273us/step - loss: 2.3027 - acc: 0.1001 - val_loss: 2.3026 - val_acc: 0.1000\n",
            "Epoch 6/10\n",
            "42000/42000 [==============================] - 11s 274us/step - loss: 2.3028 - acc: 0.0988 - val_loss: 2.3026 - val_acc: 0.1000\n",
            "Epoch 7/10\n",
            "42000/42000 [==============================] - 12s 293us/step - loss: 2.3028 - acc: 0.1000 - val_loss: 2.3027 - val_acc: 0.1000\n",
            "Epoch 8/10\n",
            "42000/42000 [==============================] - 11s 271us/step - loss: 2.3028 - acc: 0.1015 - val_loss: 2.3026 - val_acc: 0.1000\n",
            "Epoch 9/10\n",
            "42000/42000 [==============================] - 11s 272us/step - loss: 2.3028 - acc: 0.0999 - val_loss: 2.3027 - val_acc: 0.1000\n",
            "Epoch 10/10\n",
            "42000/42000 [==============================] - 12s 278us/step - loss: 2.3028 - acc: 0.0996 - val_loss: 2.3027 - val_acc: 0.1000\n"
          ],
          "name": "stdout"
        }
      ]
    },
    {
      "cell_type": "markdown",
      "metadata": {
        "id": "Qh32l1SBDyFi",
        "colab_type": "text"
      },
      "source": [
        "#High Regularization - Use model.evaluate() to return the score\n"
      ]
    },
    {
      "cell_type": "code",
      "metadata": {
        "id": "4gV0IWsFDplA",
        "colab_type": "code",
        "outputId": "c2537b23-ee60-49dd-a1a4-247dc7391032",
        "colab": {
          "base_uri": "https://localhost:8080/",
          "height": 52
        }
      },
      "source": [
        "scores = model_with_high_l2_lambda.evaluate(X_test_scaled, y_test_scaled)\n",
        "m3_accuracy = model_with_high_l2_lambda.metrics_names[1], scores[1]*100\n",
        "print(\"%s: %.2f%%\" % (m1_accuracy))\n",
        "\n",
        "model_description.append('Model 3->High L2 Lambda')\n",
        "model_accuracy.append(m3_accuracy)\n",
        "model_l2_regularization.append(0.05)\n",
        "model_lr.append(\"None\")\n",
        "model_dropout.append(\"None\")"
      ],
      "execution_count": 105,
      "outputs": [
        {
          "output_type": "stream",
          "text": [
            "18000/18000 [==============================] - 1s 72us/step\n",
            "acc: 82.01%\n"
          ],
          "name": "stdout"
        }
      ]
    },
    {
      "cell_type": "markdown",
      "metadata": {
        "id": "fyMaN28TswmK",
        "colab_type": "text"
      },
      "source": [
        "# Hyper Parameter Tuning Using GridSearch "
      ]
    },
    {
      "cell_type": "code",
      "metadata": {
        "id": "zTxpzyPkExNe",
        "colab_type": "code",
        "colab": {
          "base_uri": "https://localhost:8080/",
          "height": 606
        },
        "outputId": "0a4e77e6-a27c-4696-efe9-478daa4dba77"
      },
      "source": [
        "from keras.wrappers.scikit_learn import KerasClassifier\n",
        "from sklearn.model_selection import GridSearchCV\n",
        "import time\n",
        "\n",
        "# define the grid search parameters\n",
        "learn_rate = [0.001,0.005,0.01,0.1]\n",
        "dropout_rate = [0.0,0.2,0.3]\n",
        "l2_lambda=[0.001,0.05,0.1]\n",
        "\n",
        "param_grid = dict(l2_lambda=l2_lambda,\n",
        "                  learning_rate=learn_rate,\n",
        "                  dropout_rate=dropout_rate)\n",
        "\n",
        "t0 = time.time()\n",
        "\n",
        "# create model\n",
        "model = KerasClassifier(build_fn=build_model, epochs=3, verbose=1)\n",
        "grid = GridSearchCV(estimator=model, param_grid=param_grid, n_jobs=-1)\n",
        "grid_result = grid.fit(X_train_scaled, y_train_scaled)\n",
        "\n",
        "t1 = time.time()\n",
        "\n",
        "print ('\\nTotal time taken is {:} sec'.format(t1-t0))"
      ],
      "execution_count": 90,
      "outputs": [
        {
          "output_type": "stream",
          "text": [
            "/usr/local/lib/python3.6/dist-packages/joblib/externals/loky/process_executor.py:706: UserWarning: A worker stopped while some jobs were given to the executor. This can be caused by a too short worker timeout or by a memory leak.\n",
            "  \"timeout or by a memory leak.\", UserWarning\n"
          ],
          "name": "stderr"
        },
        {
          "output_type": "stream",
          "text": [
            "Model: \"sequential_21\"\n",
            "_________________________________________________________________\n",
            "Layer (type)                 Output Shape              Param #   \n",
            "=================================================================\n",
            "conv2d_41 (Conv2D)           (None, 31, 31, 64)        320       \n",
            "_________________________________________________________________\n",
            "max_pooling2d_41 (MaxPooling (None, 15, 15, 64)        0         \n",
            "_________________________________________________________________\n",
            "conv2d_42 (Conv2D)           (None, 14, 14, 128)       32896     \n",
            "_________________________________________________________________\n",
            "max_pooling2d_42 (MaxPooling (None, 7, 7, 128)         0         \n",
            "_________________________________________________________________\n",
            "flatten_21 (Flatten)         (None, 6272)              0         \n",
            "_________________________________________________________________\n",
            "dropout_13 (Dropout)         (None, 6272)              0         \n",
            "_________________________________________________________________\n",
            "dense_28 (Dense)             (None, 10)                62730     \n",
            "=================================================================\n",
            "Total params: 95,946\n",
            "Trainable params: 95,946\n",
            "Non-trainable params: 0\n",
            "_________________________________________________________________\n",
            "Epoch 1/3\n",
            "42000/42000 [==============================] - 8s 193us/step - loss: 1.3751 - acc: 0.5796\n",
            "Epoch 2/3\n",
            "42000/42000 [==============================] - 7s 164us/step - loss: 0.8082 - acc: 0.7846\n",
            "Epoch 3/3\n",
            "42000/42000 [==============================] - 7s 169us/step - loss: 0.7476 - acc: 0.8019\n",
            "\n",
            "Total time taken is 2519.1734795570374 sec\n"
          ],
          "name": "stdout"
        }
      ]
    },
    {
      "cell_type": "code",
      "metadata": {
        "id": "BNnDOpKXUz3F",
        "colab_type": "code",
        "colab": {
          "base_uri": "https://localhost:8080/",
          "height": 728
        },
        "outputId": "eddef6aa-ef98-49c3-f9f8-59c52250eede"
      },
      "source": [
        "# Hyper parameter tuning summarize results\n",
        "print(\"\\n\\nBest: %f using %s \\n\" % (grid_result.best_score_, grid_result.best_params_))\n",
        "means = grid_result.cv_results_['mean_test_score']\n",
        "stds = grid_result.cv_results_['std_test_score']\n",
        "params = grid_result.cv_results_['params']\n",
        "for mean, stdev, param in zip(means, stds, params):\n",
        "    print(\"%f (%f) with: %r\" % (mean, stdev, param))"
      ],
      "execution_count": 107,
      "outputs": [
        {
          "output_type": "stream",
          "text": [
            "\n",
            "\n",
            "Best: 0.801262 using {'dropout_rate': 0.0, 'l2_lambda': 0.001, 'learning_rate': 0.01} \n",
            "\n",
            "0.798929 (0.009703) with: {'dropout_rate': 0.0, 'l2_lambda': 0.001, 'learning_rate': 0.001}\n",
            "0.799571 (0.004532) with: {'dropout_rate': 0.0, 'l2_lambda': 0.001, 'learning_rate': 0.005}\n",
            "0.801262 (0.008640) with: {'dropout_rate': 0.0, 'l2_lambda': 0.001, 'learning_rate': 0.01}\n",
            "0.799357 (0.007733) with: {'dropout_rate': 0.0, 'l2_lambda': 0.001, 'learning_rate': 0.1}\n",
            "0.099500 (0.002452) with: {'dropout_rate': 0.0, 'l2_lambda': 0.05, 'learning_rate': 0.001}\n",
            "0.098690 (0.002469) with: {'dropout_rate': 0.0, 'l2_lambda': 0.05, 'learning_rate': 0.005}\n",
            "0.101929 (0.000923) with: {'dropout_rate': 0.0, 'l2_lambda': 0.05, 'learning_rate': 0.01}\n",
            "0.099143 (0.002864) with: {'dropout_rate': 0.0, 'l2_lambda': 0.05, 'learning_rate': 0.1}\n",
            "0.100452 (0.002403) with: {'dropout_rate': 0.0, 'l2_lambda': 0.1, 'learning_rate': 0.001}\n",
            "0.100452 (0.002403) with: {'dropout_rate': 0.0, 'l2_lambda': 0.1, 'learning_rate': 0.005}\n",
            "0.098262 (0.001767) with: {'dropout_rate': 0.0, 'l2_lambda': 0.1, 'learning_rate': 0.01}\n",
            "0.099452 (0.003119) with: {'dropout_rate': 0.0, 'l2_lambda': 0.1, 'learning_rate': 0.1}\n",
            "0.795381 (0.004396) with: {'dropout_rate': 0.2, 'l2_lambda': 0.001, 'learning_rate': 0.001}\n",
            "0.788024 (0.008232) with: {'dropout_rate': 0.2, 'l2_lambda': 0.001, 'learning_rate': 0.005}\n",
            "0.793310 (0.005713) with: {'dropout_rate': 0.2, 'l2_lambda': 0.001, 'learning_rate': 0.01}\n",
            "0.801048 (0.003088) with: {'dropout_rate': 0.2, 'l2_lambda': 0.001, 'learning_rate': 0.1}\n",
            "0.100833 (0.002764) with: {'dropout_rate': 0.2, 'l2_lambda': 0.05, 'learning_rate': 0.001}\n",
            "0.100452 (0.002403) with: {'dropout_rate': 0.2, 'l2_lambda': 0.05, 'learning_rate': 0.005}\n",
            "0.100667 (0.001990) with: {'dropout_rate': 0.2, 'l2_lambda': 0.05, 'learning_rate': 0.01}\n",
            "0.099643 (0.002610) with: {'dropout_rate': 0.2, 'l2_lambda': 0.05, 'learning_rate': 0.1}\n",
            "0.100381 (0.003005) with: {'dropout_rate': 0.2, 'l2_lambda': 0.1, 'learning_rate': 0.001}\n",
            "0.100000 (0.002202) with: {'dropout_rate': 0.2, 'l2_lambda': 0.1, 'learning_rate': 0.005}\n",
            "0.099929 (0.002258) with: {'dropout_rate': 0.2, 'l2_lambda': 0.1, 'learning_rate': 0.01}\n",
            "0.100095 (0.002526) with: {'dropout_rate': 0.2, 'l2_lambda': 0.1, 'learning_rate': 0.1}\n",
            "0.788524 (0.009399) with: {'dropout_rate': 0.3, 'l2_lambda': 0.001, 'learning_rate': 0.001}\n",
            "0.790190 (0.004498) with: {'dropout_rate': 0.3, 'l2_lambda': 0.001, 'learning_rate': 0.005}\n",
            "0.790214 (0.011747) with: {'dropout_rate': 0.3, 'l2_lambda': 0.001, 'learning_rate': 0.01}\n",
            "0.784143 (0.007707) with: {'dropout_rate': 0.3, 'l2_lambda': 0.001, 'learning_rate': 0.1}\n",
            "0.098976 (0.002994) with: {'dropout_rate': 0.3, 'l2_lambda': 0.05, 'learning_rate': 0.001}\n",
            "0.100452 (0.002403) with: {'dropout_rate': 0.3, 'l2_lambda': 0.05, 'learning_rate': 0.005}\n",
            "0.100452 (0.002403) with: {'dropout_rate': 0.3, 'l2_lambda': 0.05, 'learning_rate': 0.01}\n",
            "0.099214 (0.003776) with: {'dropout_rate': 0.3, 'l2_lambda': 0.05, 'learning_rate': 0.1}\n",
            "0.101476 (0.001123) with: {'dropout_rate': 0.3, 'l2_lambda': 0.1, 'learning_rate': 0.001}\n",
            "0.098524 (0.002482) with: {'dropout_rate': 0.3, 'l2_lambda': 0.1, 'learning_rate': 0.005}\n",
            "0.098905 (0.003063) with: {'dropout_rate': 0.3, 'l2_lambda': 0.1, 'learning_rate': 0.01}\n",
            "0.100452 (0.002403) with: {'dropout_rate': 0.3, 'l2_lambda': 0.1, 'learning_rate': 0.1}\n"
          ],
          "name": "stdout"
        }
      ]
    },
    {
      "cell_type": "markdown",
      "metadata": {
        "id": "HuZXoNxApfEx",
        "colab_type": "text"
      },
      "source": [
        "# Results Comparision"
      ]
    },
    {
      "cell_type": "markdown",
      "metadata": {
        "id": "FJ2ORO0wRbz5",
        "colab_type": "text"
      },
      "source": [
        "#Set the best hyperparameters found in the previous step. Check the Network’s accuracy.\t"
      ]
    },
    {
      "cell_type": "code",
      "metadata": {
        "id": "edQf85Y9C2lL",
        "colab_type": "code",
        "colab": {
          "base_uri": "https://localhost:8080/",
          "height": 817
        },
        "outputId": "c9f61189-e77e-4e46-cc32-9d4502bf62e8"
      },
      "source": [
        "final_model = build_model(l2_lambda = 0.001,\n",
        "                          learning_rate = 0.01,\n",
        "                          dropout_rate = 0.0)\n",
        "\n",
        "#Fit the model\t\n",
        "history = final_model.fit(X_train_scaled, \n",
        "                          y_train_scaled, \n",
        "                          epochs=10, \n",
        "                          validation_data=(X_val_scaled,y_val_scaled))\n",
        "\n",
        "scores = final_model.evaluate(X_test_scaled, y_test_scaled)\n",
        "accuracy_final = final_model.metrics_names[1], scores[1]*100\n",
        "print(\"%s: %.2f%%\" % (accuracy_final))\n",
        "\n",
        "model_description.append('Final Model')\n",
        "model_accuracy.append(accuracy_final)\n",
        "model_l2_regularization.append(0.001)\n",
        "model_lr.append(0.01)\n",
        "model_dropout.append(0.0)"
      ],
      "execution_count": 108,
      "outputs": [
        {
          "output_type": "stream",
          "text": [
            "Model: \"sequential_25\"\n",
            "_________________________________________________________________\n",
            "Layer (type)                 Output Shape              Param #   \n",
            "=================================================================\n",
            "conv2d_49 (Conv2D)           (None, 31, 31, 64)        320       \n",
            "_________________________________________________________________\n",
            "max_pooling2d_49 (MaxPooling (None, 15, 15, 64)        0         \n",
            "_________________________________________________________________\n",
            "conv2d_50 (Conv2D)           (None, 14, 14, 128)       32896     \n",
            "_________________________________________________________________\n",
            "max_pooling2d_50 (MaxPooling (None, 7, 7, 128)         0         \n",
            "_________________________________________________________________\n",
            "flatten_25 (Flatten)         (None, 6272)              0         \n",
            "_________________________________________________________________\n",
            "dropout_17 (Dropout)         (None, 6272)              0         \n",
            "_________________________________________________________________\n",
            "dense_32 (Dense)             (None, 10)                62730     \n",
            "=================================================================\n",
            "Total params: 95,946\n",
            "Trainable params: 95,946\n",
            "Non-trainable params: 0\n",
            "_________________________________________________________________\n",
            "Train on 42000 samples, validate on 60000 samples\n",
            "Epoch 1/10\n",
            "42000/42000 [==============================] - 13s 308us/step - loss: 1.2266 - acc: 0.6408 - val_loss: 0.8013 - val_acc: 0.7952\n",
            "Epoch 2/10\n",
            "42000/42000 [==============================] - 11s 273us/step - loss: 0.7793 - acc: 0.7958 - val_loss: 0.7578 - val_acc: 0.8002\n",
            "Epoch 3/10\n",
            "42000/42000 [==============================] - 12s 274us/step - loss: 0.7303 - acc: 0.8097 - val_loss: 0.7194 - val_acc: 0.8139\n",
            "Epoch 4/10\n",
            "42000/42000 [==============================] - 12s 280us/step - loss: 0.6981 - acc: 0.8202 - val_loss: 0.6906 - val_acc: 0.8238\n",
            "Epoch 5/10\n",
            "42000/42000 [==============================] - 12s 276us/step - loss: 0.6776 - acc: 0.8257 - val_loss: 0.6625 - val_acc: 0.8318\n",
            "Epoch 6/10\n",
            "42000/42000 [==============================] - 12s 288us/step - loss: 0.6599 - acc: 0.8320 - val_loss: 0.7057 - val_acc: 0.8168\n",
            "Epoch 7/10\n",
            "42000/42000 [==============================] - 11s 271us/step - loss: 0.6518 - acc: 0.8341 - val_loss: 0.6382 - val_acc: 0.8426\n",
            "Epoch 8/10\n",
            "42000/42000 [==============================] - 11s 268us/step - loss: 0.6356 - acc: 0.8399 - val_loss: 0.6450 - val_acc: 0.8362\n",
            "Epoch 9/10\n",
            "42000/42000 [==============================] - 12s 275us/step - loss: 0.6257 - acc: 0.8427 - val_loss: 0.6233 - val_acc: 0.8458\n",
            "Epoch 10/10\n",
            "42000/42000 [==============================] - 12s 282us/step - loss: 0.6138 - acc: 0.8473 - val_loss: 0.6054 - val_acc: 0.8515\n",
            "18000/18000 [==============================] - 1s 77us/step\n",
            "acc: 83.47%\n"
          ],
          "name": "stdout"
        }
      ]
    },
    {
      "cell_type": "markdown",
      "metadata": {
        "id": "soOyFjwgVhou",
        "colab_type": "text"
      },
      "source": [
        "# Summary"
      ]
    },
    {
      "cell_type": "code",
      "metadata": {
        "id": "tRnacUA_pgwQ",
        "colab_type": "code",
        "colab": {
          "base_uri": "https://localhost:8080/",
          "height": 177
        },
        "outputId": "ce313883-2ee5-4eed-9600-c8686cb15167"
      },
      "source": [
        "import pandas as pd\n",
        "\n",
        "results_df = pd.DataFrame(list(zip(model_description, \n",
        "                                   model_accuracy,\n",
        "                                   model_l2_regularization,                                    \n",
        "                                   model_lr,\n",
        "                                   model_dropout)),\n",
        "                          columns=['Description',                                   \n",
        "                                   'Accuracy',\n",
        "                                   'L2 Lambda',                                   \n",
        "                                   'Learning Rate',\n",
        "                                   'Dropout'])\n",
        "\n",
        "print ('\\n==============Final Results==========================')\n",
        "print (results_df.head(5))\n",
        "\n"
      ],
      "execution_count": 111,
      "outputs": [
        {
          "output_type": "stream",
          "text": [
            "\n",
            "==============Final Results==========================\n",
            "               Description                  Accuracy  ...  Learning Rate Dropout\n",
            "0   Model 1->Low L2 Lambda  (acc, 82.00555555555556)  ...           None    None\n",
            "1  Model 2->Zero L2 Lambda  (acc, 84.56666666666666)  ...           None    None\n",
            "2  Model 3->High L2 Lambda               (acc, 9.55)  ...           None    None\n",
            "3              Final Model  (acc, 83.46666666666667)  ...           0.01       0\n",
            "\n",
            "[4 rows x 5 columns]\n"
          ],
          "name": "stdout"
        }
      ]
    },
    {
      "cell_type": "code",
      "metadata": {
        "id": "J3DvidsyVYCE",
        "colab_type": "code",
        "colab": {}
      },
      "source": [
        ""
      ],
      "execution_count": 0,
      "outputs": []
    }
  ]
}